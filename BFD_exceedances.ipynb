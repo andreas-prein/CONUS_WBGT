{
 "cells": [
  {
   "cell_type": "code",
   "execution_count": 1,
   "id": "6b5409e5-1339-44fa-865f-e1058aadb4e7",
   "metadata": {},
   "outputs": [],
   "source": [
    "#!/usr/bin/env python"
   ]
  },
  {
   "cell_type": "markdown",
   "id": "b4d8ce15-ec63-4a5c-bab3-ab360c5ae01b",
   "metadata": {},
   "source": [
    "# BFD_exceedances.ipynb"
   ]
  },
  {
   "cell_type": "code",
   "execution_count": 1,
   "id": "208494b2-190f-49d7-8829-8b40cc67beb8",
   "metadata": {},
   "outputs": [
    {
     "data": {
      "text/plain": [
       "'\\n    File name: BFD_exceedances.ipynb\\n    Author: Andreas Prein\\n    E-mail: prein@ucar.edu\\n    Date created: 04.07.2024\\n    Date last modified: 04.07.2024\\n\\n    ############################################################## \\n    Purpose:\\n\\n    Read in WBGT data from CONUS404 control and PGW that were processed in:\\n    projects/2020_CONUS404/programs/CONUS404_preprocessor/GWBT_code/PyWBGT-1.0.0/Jupyter_notebooks/Calculate_WBGT_with_C404_data.py\\n\\n    Calculate monthly exceedances of flag warnings for each hour of the day\\n\\n    Save data to netcdf files for further processing\\n    \\n'"
      ]
     },
     "execution_count": 1,
     "metadata": {},
     "output_type": "execute_result"
    }
   ],
   "source": [
    "'''\n",
    "    File name: BFD_exceedances.ipynb\n",
    "    Author: Andreas Prein\n",
    "    E-mail: prein@ucar.edu\n",
    "    Date created: 04.07.2024\n",
    "    Date last modified: 04.07.2024\n",
    "\n",
    "    ############################################################## \n",
    "    Purpose:\n",
    "\n",
    "    Read in WBGT data from CONUS404 control and PGW that were processed in:\n",
    "    projects/2020_CONUS404/programs/CONUS404_preprocessor/GWBT_code/PyWBGT-1.0.0/Jupyter_notebooks/Calculate_WBGT_with_C404_data.py\n",
    "\n",
    "    Calculate monthly exceedances of flag warnings for each hour of the day\n",
    "\n",
    "    Save data to netcdf files for further processing\n",
    "    \n",
    "'''"
   ]
  },
  {
   "cell_type": "code",
   "execution_count": 2,
   "id": "21f22c35-1924-4ad1-b0af-483e25b4455d",
   "metadata": {},
   "outputs": [],
   "source": [
    "from dateutil import rrule\n",
    "import datetime\n",
    "import glob\n",
    "from netCDF4 import Dataset\n",
    "import sys, traceback\n",
    "import dateutil.parser as dparser\n",
    "import string\n",
    "from pdb import set_trace as stop\n",
    "import numpy as np\n",
    "import numpy.ma as ma\n",
    "import os\n",
    "# import pickle\n",
    "import subprocess\n",
    "import pandas as pd\n",
    "from scipy import stats\n",
    "import copy\n",
    "import matplotlib.pyplot as plt\n",
    "import matplotlib.colors as colors\n",
    "import matplotlib as mpl\n",
    "import pylab as plt\n",
    "import random\n",
    "import scipy.ndimage as ndimage\n",
    "import scipy\n",
    "import shapefile\n",
    "import matplotlib.path as mplPath\n",
    "from matplotlib.patches import Polygon as Polygon2\n",
    "# Cluster specific modules\n",
    "from scipy.cluster.hierarchy import dendrogram, linkage\n",
    "from scipy.cluster.hierarchy import cophenet\n",
    "from scipy.spatial.distance import pdist\n",
    "from scipy.cluster.hierarchy import fcluster\n",
    "from scipy.cluster.vq import kmeans2,vq, whiten\n",
    "from scipy.ndimage import gaussian_filter\n",
    "import seaborn as sns\n",
    "# import metpy.calc as mpcalc\n",
    "import shapefile as shp\n",
    "import sys\n",
    "from scipy.signal import wiener, filtfilt, butter, gaussian, freqz\n",
    "from scipy.ndimage import filters\n",
    "import pickle\n",
    "import time\n",
    "import xarray as xr\n",
    "from tqdm import tqdm\n",
    "import matplotlib.gridspec as gridspec"
   ]
  },
  {
   "cell_type": "code",
   "execution_count": 12,
   "id": "468d9159-21bb-40cc-8b44-8f1a41eb8c8f",
   "metadata": {},
   "outputs": [],
   "source": [
    "years = [1999] #[int(sys.argv[1])]\n",
    "\n",
    "# datasets = ['ERA5', 'CONUS404_ctr', 'CONUS404_pgw']\n",
    "datasets = ['CONUS404_ctr', 'CONUS404_pgw']\n",
    "\n",
    "flag_thresholds = [29, 31, 32]\n",
    "\n",
    "savedir = '/glade/campaign/mmm/c3we/prein/Papers/2024/2024_WBGT-climate-change/Flag_Exceedances/'"
   ]
  },
  {
   "cell_type": "markdown",
   "id": "57a17827-607a-431f-a016-e2909686bf14",
   "metadata": {},
   "source": [
    "### loop over datasets and do the processing"
   ]
  },
  {
   "cell_type": "code",
   "execution_count": 13,
   "id": "471f5f5f-f572-4b6d-8afd-b2a3a5ce4728",
   "metadata": {},
   "outputs": [
    {
     "name": "stdout",
     "output_type": "stream",
     "text": [
      "WORK ON CONUS404_ctr\n",
      "WORK ON CONUS404_pgw\n"
     ]
    },
    {
     "name": "stderr",
     "output_type": "stream",
     "text": [
      "100%|██████████| 12/12 [03:59<00:00, 19.94s/it]\n"
     ]
    }
   ],
   "source": [
    "for da in range(len(datasets)):\n",
    "    print('WORK ON '+datasets[da])\n",
    "\n",
    "    if datasets[da] == 'ERA5':\n",
    "        data_dir = '/glade/campaign/mmm/c3we/ESTCP/ERA5/WBGT/'\n",
    "        time = pd.date_range(datetime.datetime(1950, 1, 1, 0), \n",
    "                              end=datetime.datetime(2019, 12, 31, 23), freq='h')\n",
    "        \n",
    "        conus_era5 = [100,1250,270,900]\n",
    "        \n",
    "        # read ERA5 coordinates\n",
    "        ncid=Dataset('/glade/campaign/mmm/c3we/ESTCP/ERA5/WBGT/WBGT_ERA5_2008.nc', mode='r')\n",
    "        lon = np.array(np.squeeze(ncid.variables['longitude'][conus_era5[3]:conus_era5[1]]))\n",
    "        lat = np.array(np.squeeze(ncid.variables['latitude'][conus_era5[0]:conus_era5[2]]))\n",
    "        ncid.close()\n",
    "\n",
    "        # years = np.unique(time.year)\n",
    "        wbgt = np.zeros((len(years), 12, 24, len(flag_thresholds), len(lat), len(lon))); wbgt[:] = np.nan\n",
    "        for yy in tqdm(range(len(years))):\n",
    "            outfile = savedir + str(years[yy]) + '_' + datasets[da] + '_flag_day_frequency.npz'\n",
    "            if os.path.isfile(outfile) == False:\n",
    "            \n",
    "                file = data_dir + 'WBGT_ERA5_'+str(years[yy])+'.nc'\n",
    "                ncid=Dataset(file, mode='r')\n",
    "                data_tmp = np.array(np.squeeze(ncid.variables['WBGT'][:,conus_era5[0]:conus_era5[2],conus_era5[3]:conus_era5[1]]))\n",
    "                ncid.close()\n",
    "    \n",
    "                for mm in range(12):\n",
    "                    data_mon = data_tmp[time[time.year == years[yy]].month == (mm+1)]\n",
    "                    data_mon = np.reshape(data_mon, (int(data_mon.shape[0]/24), 24, len(lat), len(lon)))\n",
    "                    for th in range(len(flag_thresholds)):\n",
    "                        wbgt[mm,:,th,:,:] = np.sum(data_mon-273.15 >= flag_thresholds[th], axis=0)\n",
    "    \n",
    "                # save the data\n",
    "                np.savez(outfile,\n",
    "                        lon = lon,\n",
    "                        lat = lat,\n",
    "                        flag_thresholds = flag_thresholds,\n",
    "                        exceedances = wbgt[:,:,:,:,:])\n",
    "            \n",
    "    elif datasets[da] == 'CONUS404_ctr':\n",
    "        data_dir = '/glade/campaign/mmm/c3we/prein/CONUS404/data/MonthlyData/GWBT/'\n",
    "        time = pd.date_range(datetime.datetime(1980, 1, 1, 0), \n",
    "                              end=datetime.datetime(2022, 12, 31, 23), freq='h')\n",
    "        \n",
    "        # read CONUS404 coordinates\n",
    "        ncid=Dataset('/glade/campaign/ncar/USGS_Water/CONUS404/wrfconstants_d01_1979-10-01_00:00:00.nc4', mode='r')\n",
    "        lon = np.array(np.squeeze(ncid.variables['XLONG'][:]))\n",
    "        lat = np.array(np.squeeze(ncid.variables['XLAT'][:]))\n",
    "        ncid.close()\n",
    "\n",
    "        # years = np.unique(time.year)\n",
    "        for yy in range(len(years)):\n",
    "            wbgt = np.zeros((12, 24, len(flag_thresholds), lat.shape[0], lat.shape[1])); wbgt[:] = np.nan\n",
    "            outfile = savedir + str(years[yy]) + '_' + datasets[da] + '_flag_day_frequency.npz'\n",
    "            if os.path.isfile(outfile) == False:\n",
    "                for mm in tqdm(range(12)):\n",
    "                    file = data_dir + 'GWBT_'+str(years[yy])+str(mm+1).zfill(2)+'_CONUS404.nc'\n",
    "                    ncid=Dataset(file, mode='r')\n",
    "                    data_tmp = np.array(np.squeeze(ncid.variables['GWBT'][:]))\n",
    "                    ncid.close()\n",
    "                    data_mon = np.reshape(data_tmp, (int(data_tmp.shape[0]/24), 24, lat.shape[0], lat.shape[1]))                    \n",
    "                    for th in range(len(flag_thresholds)):\n",
    "                        wbgt[mm,:,th,:,:] = np.sum(data_mon-273.15 >= flag_thresholds[th], axis=0)\n",
    "    \n",
    "                # save the data\n",
    "                np.savez(outfile,\n",
    "                        lon = lon,\n",
    "                        lat = lat,\n",
    "                        flag_thresholds = flag_thresholds,\n",
    "                        exceedances = wbgt[:,:,:,:,:])\n",
    "        \n",
    "    elif datasets[da] == 'CONUS404_pgw':\n",
    "        data_dir = '/glade/campaign/mmm/c3we/prein/CONUS404/data/MonthlyData_PGW/GWBT/'\n",
    "        time = pd.date_range(datetime.datetime(1980, 1, 1, 0), \n",
    "                              end=datetime.datetime(2022, 12, 31, 23), freq='h')\n",
    "        \n",
    "        # read CONUS404 coordinates\n",
    "        ncid=Dataset('/glade/campaign/ncar/USGS_Water/CONUS404/wrfconstants_d01_1979-10-01_00:00:00.nc4', mode='r')\n",
    "        lon = np.array(np.squeeze(ncid.variables['XLONG'][:]))\n",
    "        lat = np.array(np.squeeze(ncid.variables['XLAT'][:]))\n",
    "        ncid.close()\n",
    "\n",
    "        # years = np.unique(time.year)\n",
    "        for yy in range(len(years)):\n",
    "            wbgt = np.zeros((12, 24, len(flag_thresholds), lat.shape[0], lat.shape[1])); wbgt[:] = np.nan\n",
    "            outfile = savedir + str(years[yy]) + '_' + datasets[da] + '_flag_day_frequency.npz'\n",
    "            if os.path.isfile(outfile) == False:\n",
    "                for mm in tqdm(range(12)):\n",
    "                    file = data_dir + 'GWBT_'+str(years[yy])+str(mm+1).zfill(2)+'_CONUS404.nc'\n",
    "                    ncid=Dataset(file, mode='r')\n",
    "                    data_tmp = np.array(np.squeeze(ncid.variables['__xarray_dataarray_variable__'][:]))\n",
    "                    ncid.close()\n",
    "                    data_mon = np.reshape(data_tmp, (int(data_tmp.shape[0]/24), 24, lat.shape[0], lat.shape[1]))                    \n",
    "                    for th in range(len(flag_thresholds)):\n",
    "                        wbgt[mm,:,th,:,:] = np.sum(data_mon-273.15 >= flag_thresholds[th], axis=0)\n",
    "    \n",
    "                # save the data\n",
    "                np.savez(outfile,\n",
    "                        lon = lon,\n",
    "                        lat = lat,\n",
    "                        flag_thresholds = flag_thresholds,\n",
    "                        exceedances = wbgt[:,:,:,:,:])\n",
    "\n"
   ]
  },
  {
   "cell_type": "code",
   "execution_count": null,
   "id": "eba34e82-f6f7-4c0d-9d57-c539c3f4c3ad",
   "metadata": {},
   "outputs": [],
   "source": []
  },
  {
   "cell_type": "code",
   "execution_count": null,
   "id": "81ed2e80-27b9-44cb-8214-8f9f98c7ef48",
   "metadata": {},
   "outputs": [],
   "source": []
  }
 ],
 "metadata": {
  "kernelspec": {
   "display_name": "Python 3 (ipykernel)",
   "language": "python",
   "name": "python3"
  },
  "language_info": {
   "codemirror_mode": {
    "name": "ipython",
    "version": 3
   },
   "file_extension": ".py",
   "mimetype": "text/x-python",
   "name": "python",
   "nbconvert_exporter": "python",
   "pygments_lexer": "ipython3",
   "version": "3.10.12"
  }
 },
 "nbformat": 4,
 "nbformat_minor": 5
}
